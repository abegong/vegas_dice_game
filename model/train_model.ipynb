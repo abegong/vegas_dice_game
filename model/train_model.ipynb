{
 "cells": [
  {
   "cell_type": "code",
   "execution_count": 19,
   "id": "d8247729",
   "metadata": {},
   "outputs": [],
   "source": [
    "import pandas as pd\n",
    "import json\n",
    "\n",
    "from vegas_dice_game.engine import GameState, Casino, Player"
   ]
  },
  {
   "cell_type": "code",
   "execution_count": 20,
   "id": "dd82422c",
   "metadata": {},
   "outputs": [],
   "source": [
    "with open(\"InputStrategy.log\") as file_:\n",
    "    lines = file_.readlines()"
   ]
  },
  {
   "cell_type": "code",
   "execution_count": 23,
   "id": "ef7e4b12",
   "metadata": {},
   "outputs": [],
   "source": [
    "def get_choice_and_game_state_from_line(line):\n",
    "    choice_, game_state = line.split(' ', 1)\n",
    "\n",
    "    game_state_json = json.loads(game_state)\n",
    "    game_state = game_state_json\n",
    "    game_state[\"casinos\"] = [Casino(**c) for c in game_state[\"casinos\"]]\n",
    "    game_state[\"players\"] = [Player(**p) for p in game_state[\"players\"]]\n",
    "    game_state = GameState(**game_state)\n",
    "    \n",
    "    return choice_, game_state\n",
    "\n",
    "# get_choice_and_game_state_from_line(lines[20])"
   ]
  },
  {
   "cell_type": "code",
   "execution_count": 27,
   "id": "237b874e",
   "metadata": {},
   "outputs": [],
   "source": [
    "def calc_total_other_dice_remaining(\n",
    "    game_state,\n",
    "    my_id,\n",
    "):\n",
    "    return sum([game_state.players[id_].dice_remaining for id_ in range(len(game_state.players)) if not id_ == my_id ])\n",
    "\n",
    "def calc_my_dice_lead(\n",
    "    casino,\n",
    "    my_id,\n",
    "):\n",
    "    my_dice = casino.placed_dice[my_id]\n",
    "    max_other_dice = max([casino.placed_dice[id_] for id_ in range(len(game_state.players)) if not id_ == my_id ])\n",
    "#     print(casino)\n",
    "#     print(my_id)\n",
    "#     print(my_dice)\n",
    "#     print(max_other_dice)\n",
    "    return my_dice - max_other_dice"
   ]
  },
  {
   "cell_type": "code",
   "execution_count": 28,
   "id": "49fdd12e",
   "metadata": {},
   "outputs": [],
   "source": [
    "def get_features_from_game_state(game_state):\n",
    "    my_id = game_state.next_player_id\n",
    "\n",
    "    features = {\n",
    "        \"my_dice_remaining\" : game_state.players[my_id].dice_remaining,\n",
    "        \"total_other_dice_remaining\" : calc_total_other_dice_remaining(game_state, my_id),\n",
    "    }\n",
    "    # print(general_features)\n",
    "\n",
    "    for casino in game_state.casinos:\n",
    "        casino_id = casino.id_\n",
    "        casino_level_features = {\n",
    "            f\"casino_{casino_id}_num_dice_to_be_placed\" : sum([1 for i in game_state.next_roll if i == casino_id]),\n",
    "            f\"casino_{casino_id}_my_total_dice\" : casino.placed_dice[my_id],\n",
    "            f\"casino_{casino_id}_total_other_dice\" : sum([casino.placed_dice[id_] for id_ in range(len(game_state.players)) if not id_ == my_id]),\n",
    "            f\"casino_{casino_id}_total_players\" : sum([casino.placed_dice[id_] > 0 for id_ in range(len(game_state.players))]),\n",
    "            f\"casino_{casino_id}_my_dice_lead\" : calc_my_dice_lead(casino, my_id),\n",
    "            f\"casino_{casino_id}_max_payoff\" : casino.payouts[0],\n",
    "            f\"casino_{casino_id}_num_payoffs\" : len(casino.payouts),\n",
    "            f\"casino_{casino_id}_total_payoff\" : sum(casino.payouts),\n",
    "        }\n",
    "    #     print(casino_level_features)\n",
    "\n",
    "        features = {**features, **casino_level_features}\n",
    "\n",
    "    return features"
   ]
  },
  {
   "cell_type": "code",
   "execution_count": 29,
   "id": "ccfef986",
   "metadata": {},
   "outputs": [],
   "source": [
    "rows = []\n",
    "for i, line in enumerate(lines):\n",
    "    choice_, game_state = get_choice_and_game_state_from_line(line)\n",
    "    features = get_features_from_game_state(game_state)\n",
    "\n",
    "    features[\"choice\"] = choice_\n",
    "    features[\"index_\"] = i\n",
    "    \n",
    "    rows.append(features)"
   ]
  },
  {
   "cell_type": "code",
   "execution_count": 30,
   "id": "774f3a4a",
   "metadata": {},
   "outputs": [],
   "source": [
    "df = pd.DataFrame(rows)"
   ]
  },
  {
   "cell_type": "code",
   "execution_count": 32,
   "id": "7e6d3506",
   "metadata": {},
   "outputs": [
    {
     "data": {
      "text/plain": [
       "2    21\n",
       "3    20\n",
       "1    19\n",
       "4    16\n",
       "5    15\n",
       "0    12\n",
       "Name: choice, dtype: int64"
      ]
     },
     "execution_count": 32,
     "metadata": {},
     "output_type": "execute_result"
    }
   ],
   "source": [
    "df.choice.value_counts()"
   ]
  },
  {
   "cell_type": "code",
   "execution_count": 33,
   "id": "38d00186",
   "metadata": {},
   "outputs": [
    {
     "ename": "ModuleNotFoundError",
     "evalue": "No module named 'sklearn'",
     "output_type": "error",
     "traceback": [
      "\u001b[0;31m---------------------------------------------------------------------------\u001b[0m",
      "\u001b[0;31mModuleNotFoundError\u001b[0m                       Traceback (most recent call last)",
      "Input \u001b[0;32mIn [33]\u001b[0m, in \u001b[0;36m<module>\u001b[0;34m\u001b[0m\n\u001b[0;32m----> 1\u001b[0m \u001b[38;5;28;01mfrom\u001b[39;00m \u001b[38;5;21;01msklearn\u001b[39;00m\u001b[38;5;21;01m.\u001b[39;00m\u001b[38;5;21;01mlinear_model\u001b[39;00m \u001b[38;5;28;01mimport\u001b[39;00m LogisticRegression\n\u001b[1;32m      3\u001b[0m model \u001b[38;5;241m=\u001b[39m LogisticRegression()\n\u001b[1;32m      4\u001b[0m LR\u001b[38;5;241m.\u001b[39mfit()\n",
      "\u001b[0;31mModuleNotFoundError\u001b[0m: No module named 'sklearn'"
     ]
    }
   ],
   "source": [
    "from sklearn.linear_model import LogisticRegression\n",
    "\n",
    "model = LogisticRegression(\n",
    "    multiclass = \"multinomial\"\n",
    ")\n",
    "LR.fit()"
   ]
  },
  {
   "cell_type": "code",
   "execution_count": null,
   "id": "bf11b798",
   "metadata": {},
   "outputs": [],
   "source": [
    "# decision_function(X)\n",
    "# Predict confidence scores for samples.\n",
    "# densify()\n",
    "# Convert coefficient matrix to dense array format.\n",
    "# fit(X, y[, sample_weight])\n",
    "# Fit the model according to the given training data.\n",
    "# get_params([deep])\n",
    "# Get parameters for this estimator.\n",
    "# predict(X)\n",
    "# Predict class labels for samples in X.\n",
    "# predict_log_proba(X)\n",
    "# Predict logarithm of probability estimates.\n",
    "# predict_proba(X)\n",
    "# Probability estimates.\n",
    "# score(X, y[, sample_weight])\n",
    "# Return the mean accuracy on the given test data and labels.\n",
    "# set_params(**params)\n",
    "# Set the parameters of this estimator.\n",
    "# sparsify()"
   ]
  }
 ],
 "metadata": {
  "kernelspec": {
   "display_name": "Python 3 (ipykernel)",
   "language": "python",
   "name": "python3"
  },
  "language_info": {
   "codemirror_mode": {
    "name": "ipython",
    "version": 3
   },
   "file_extension": ".py",
   "mimetype": "text/x-python",
   "name": "python",
   "nbconvert_exporter": "python",
   "pygments_lexer": "ipython3",
   "version": "3.8.2"
  }
 },
 "nbformat": 4,
 "nbformat_minor": 5
}
