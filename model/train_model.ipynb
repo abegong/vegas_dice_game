{
 "cells": [
  {
   "cell_type": "code",
   "execution_count": 1,
   "metadata": {},
   "outputs": [],
   "source": [
    "import pandas as pd\n",
    "import json\n",
    "\n",
    "from vegas_dice_game.engine import GameState, Casino, Player"
   ]
  },
  {
   "cell_type": "code",
   "execution_count": 2,
   "metadata": {},
   "outputs": [],
   "source": [
    "with open(\"InputStrategy.log\") as file_:\n",
    "    lines = file_.readlines()"
   ]
  },
  {
   "cell_type": "code",
   "execution_count": 3,
   "metadata": {},
   "outputs": [],
   "source": [
    "def get_choice_and_game_state_from_line(line):\n",
    "    choice_, game_state = line.split(' ', 1)\n",
    "\n",
    "    game_state_json = json.loads(game_state)\n",
    "    game_state = game_state_json\n",
    "    game_state[\"casinos\"] = [Casino(**c) for c in game_state[\"casinos\"]]\n",
    "    game_state[\"players\"] = [Player(**p) for p in game_state[\"players\"]]\n",
    "    game_state = GameState(**game_state)\n",
    "    \n",
    "    return choice_, game_state\n",
    "\n",
    "# get_choice_and_game_state_from_line(lines[20])"
   ]
  },
  {
   "cell_type": "code",
   "execution_count": 4,
   "metadata": {},
   "outputs": [],
   "source": [
    "def calc_total_other_dice_remaining(\n",
    "    game_state,\n",
    "    my_id,\n",
    "):\n",
    "    return sum([game_state.players[id_].dice_remaining for id_ in range(len(game_state.players)) if not id_ == my_id ])\n",
    "\n",
    "def calc_my_dice_lead(\n",
    "    casino,\n",
    "    my_id,\n",
    "):\n",
    "    my_dice = casino.placed_dice[my_id]\n",
    "    max_other_dice = max([casino.placed_dice[id_] for id_ in range(len(game_state.players)) if not id_ == my_id ])\n",
    "#     print(casino)\n",
    "#     print(my_id)\n",
    "#     print(my_dice)\n",
    "#     print(max_other_dice)\n",
    "    return my_dice - max_other_dice"
   ]
  },
  {
   "cell_type": "code",
   "execution_count": 5,
   "metadata": {},
   "outputs": [],
   "source": [
    "def get_features_from_game_state(game_state):\n",
    "    my_id = game_state.next_player_id\n",
    "\n",
    "    features = {\n",
    "        \"my_dice_remaining\" : game_state.players[my_id].dice_remaining,\n",
    "        \"total_other_dice_remaining\" : calc_total_other_dice_remaining(game_state, my_id),\n",
    "    }\n",
    "    # print(general_features)\n",
    "\n",
    "    for casino in game_state.casinos:\n",
    "        casino_id = casino.id_\n",
    "        casino_level_features = {\n",
    "            f\"casino_{casino_id}_num_dice_to_be_placed\" : sum([1 for i in game_state.next_roll if i == casino_id]),\n",
    "            f\"casino_{casino_id}_my_total_dice\" : casino.placed_dice[my_id],\n",
    "            f\"casino_{casino_id}_total_other_dice\" : sum([casino.placed_dice[id_] for id_ in range(len(game_state.players)) if not id_ == my_id]),\n",
    "            f\"casino_{casino_id}_total_players\" : sum([casino.placed_dice[id_] > 0 for id_ in range(len(game_state.players))]),\n",
    "            f\"casino_{casino_id}_my_dice_lead\" : calc_my_dice_lead(casino, my_id),\n",
    "            f\"casino_{casino_id}_max_payoff\" : casino.payouts[0],\n",
    "            f\"casino_{casino_id}_num_payoffs\" : len(casino.payouts),\n",
    "            f\"casino_{casino_id}_total_payoff\" : sum(casino.payouts),\n",
    "        }\n",
    "    #     print(casino_level_features)\n",
    "\n",
    "        features = {**features, **casino_level_features}\n",
    "\n",
    "    return features"
   ]
  },
  {
   "cell_type": "code",
   "execution_count": 6,
   "metadata": {},
   "outputs": [],
   "source": [
    "rows = []\n",
    "for i, line in enumerate(lines):\n",
    "    choice_, game_state = get_choice_and_game_state_from_line(line)\n",
    "    features = get_features_from_game_state(game_state)\n",
    "\n",
    "    features[\"choice\"] = choice_\n",
    "    features[\"index_\"] = i\n",
    "    \n",
    "    rows.append(features)"
   ]
  },
  {
   "cell_type": "code",
   "execution_count": 7,
   "metadata": {},
   "outputs": [],
   "source": [
    "df = pd.DataFrame(rows)"
   ]
  },
  {
   "cell_type": "code",
   "execution_count": 8,
   "metadata": {},
   "outputs": [
    {
     "data": {
      "text/plain": [
       "2    21\n",
       "3    20\n",
       "1    19\n",
       "4    16\n",
       "5    15\n",
       "0    12\n",
       "Name: choice, dtype: int64"
      ]
     },
     "execution_count": 8,
     "metadata": {},
     "output_type": "execute_result"
    }
   ],
   "source": [
    "df.choice.value_counts()"
   ]
  },
  {
   "cell_type": "code",
   "execution_count": 12,
   "metadata": {},
   "outputs": [],
   "source": [
    "x_vars = [\n",
    "    'my_dice_remaining', 'total_other_dice_remaining',\n",
    "   'casino_0_num_dice_to_be_placed', 'casino_0_my_total_dice',\n",
    "   'casino_0_total_other_dice', 'casino_0_total_players',\n",
    "   'casino_0_my_dice_lead', 'casino_0_max_payoff', 'casino_0_num_payoffs',\n",
    "   'casino_0_total_payoff', 'casino_1_num_dice_to_be_placed',\n",
    "   'casino_1_my_total_dice', 'casino_1_total_other_dice',\n",
    "   'casino_1_total_players', 'casino_1_my_dice_lead',\n",
    "   'casino_1_max_payoff', 'casino_1_num_payoffs', 'casino_1_total_payoff',\n",
    "   'casino_2_num_dice_to_be_placed', 'casino_2_my_total_dice',\n",
    "   'casino_2_total_other_dice', 'casino_2_total_players',\n",
    "   'casino_2_my_dice_lead', 'casino_2_max_payoff', 'casino_2_num_payoffs',\n",
    "   'casino_2_total_payoff', 'casino_3_num_dice_to_be_placed',\n",
    "   'casino_3_my_total_dice', 'casino_3_total_other_dice',\n",
    "   'casino_3_total_players', 'casino_3_my_dice_lead',\n",
    "   'casino_3_max_payoff', 'casino_3_num_payoffs', 'casino_3_total_payoff',\n",
    "   'casino_4_num_dice_to_be_placed', 'casino_4_my_total_dice',\n",
    "   'casino_4_total_other_dice', 'casino_4_total_players',\n",
    "   'casino_4_my_dice_lead', 'casino_4_max_payoff', 'casino_4_num_payoffs',\n",
    "   'casino_4_total_payoff', 'casino_5_num_dice_to_be_placed',\n",
    "   'casino_5_my_total_dice', 'casino_5_total_other_dice',\n",
    "   'casino_5_total_players', 'casino_5_my_dice_lead',\n",
    "   'casino_5_max_payoff', 'casino_5_num_payoffs', 'casino_5_total_payoff'\n",
    "]"
   ]
  },
  {
   "cell_type": "code",
   "execution_count": 16,
   "metadata": {},
   "outputs": [
    {
     "name": "stderr",
     "output_type": "stream",
     "text": [
      "/Users/abe/anaconda3/lib/python3.8/site-packages/sklearn/linear_model/_logistic.py:762: ConvergenceWarning: lbfgs failed to converge (status=1):\n",
      "STOP: TOTAL NO. of ITERATIONS REACHED LIMIT.\n",
      "\n",
      "Increase the number of iterations (max_iter) or scale the data as shown in:\n",
      "    https://scikit-learn.org/stable/modules/preprocessing.html\n",
      "Please also refer to the documentation for alternative solver options:\n",
      "    https://scikit-learn.org/stable/modules/linear_model.html#logistic-regression\n",
      "  n_iter_i = _check_optimize_result(\n"
     ]
    },
    {
     "data": {
      "text/plain": [
       "LogisticRegression(multi_class='multinomial')"
      ]
     },
     "execution_count": 16,
     "metadata": {},
     "output_type": "execute_result"
    }
   ],
   "source": [
    "from sklearn.linear_model import LogisticRegression\n",
    "\n",
    "model = LogisticRegression(\n",
    "    multi_class = \"multinomial\"\n",
    ")\n",
    "model.fit(df[x_vars], df.choice)"
   ]
  },
  {
   "cell_type": "code",
   "execution_count": 24,
   "metadata": {},
   "outputs": [
    {
     "data": {
      "text/plain": [
       "array(['5', '1', '1', '1', '4', '3', '4', '3', '3', '2', '0', '2', '0',\n",
       "       '0', '0', '2', '2', '5', '4', '2', '2', '4', '0', '0', '1', '1',\n",
       "       '4', '4', '4', '5', '5', '5', '5', '5', '0', '5', '5', '2', '3',\n",
       "       '2', '5', '1', '1', '1', '1', '2', '1', '1', '1', '2', '2', '2',\n",
       "       '3', '3', '2', '3', '4', '4', '4', '4', '2', '2', '5', '1', '4',\n",
       "       '4', '4', '3', '1', '1', '1', '3', '1', '0', '3', '3', '0', '4',\n",
       "       '4', '4', '4', '4', '3', '3', '1', '4', '4', '4', '4', '5', '1',\n",
       "       '2', '5', '5', '5', '1', '2', '2', '2', '2', '3', '3', '0'],\n",
       "      dtype=object)"
      ]
     },
     "execution_count": 24,
     "metadata": {},
     "output_type": "execute_result"
    }
   ],
   "source": [
    "# model.predict_proba(df[x_vars])\n",
    "y_hat = model.predict(df[x_vars])\n",
    "y_hat"
   ]
  },
  {
   "cell_type": "code",
   "execution_count": null,
   "metadata": {},
   "outputs": [],
   "source": [
    "model.get_params()"
   ]
  },
  {
   "cell_type": "code",
   "execution_count": 21,
   "metadata": {},
   "outputs": [],
   "source": [
    "# model.coef_"
   ]
  },
  {
   "cell_type": "code",
   "execution_count": 23,
   "metadata": {},
   "outputs": [
    {
     "data": {
      "text/plain": [
       "0.5242718446601942"
      ]
     },
     "execution_count": 23,
     "metadata": {},
     "output_type": "execute_result"
    }
   ],
   "source": [
    "model.score(df[x_vars], df.choice)"
   ]
  },
  {
   "cell_type": "code",
   "execution_count": 25,
   "metadata": {},
   "outputs": [
    {
     "data": {
      "text/html": [
       "<div>\n",
       "<style scoped>\n",
       "    .dataframe tbody tr th:only-of-type {\n",
       "        vertical-align: middle;\n",
       "    }\n",
       "\n",
       "    .dataframe tbody tr th {\n",
       "        vertical-align: top;\n",
       "    }\n",
       "\n",
       "    .dataframe thead th {\n",
       "        text-align: right;\n",
       "    }\n",
       "</style>\n",
       "<table border=\"1\" class=\"dataframe\">\n",
       "  <thead>\n",
       "    <tr style=\"text-align: right;\">\n",
       "      <th>choice</th>\n",
       "      <th>0</th>\n",
       "      <th>1</th>\n",
       "      <th>2</th>\n",
       "      <th>3</th>\n",
       "      <th>4</th>\n",
       "      <th>5</th>\n",
       "    </tr>\n",
       "    <tr>\n",
       "      <th>row_0</th>\n",
       "      <th></th>\n",
       "      <th></th>\n",
       "      <th></th>\n",
       "      <th></th>\n",
       "      <th></th>\n",
       "      <th></th>\n",
       "    </tr>\n",
       "  </thead>\n",
       "  <tbody>\n",
       "    <tr>\n",
       "      <th>0</th>\n",
       "      <td>5</td>\n",
       "      <td>2</td>\n",
       "      <td>0</td>\n",
       "      <td>1</td>\n",
       "      <td>1</td>\n",
       "      <td>1</td>\n",
       "    </tr>\n",
       "    <tr>\n",
       "      <th>1</th>\n",
       "      <td>2</td>\n",
       "      <td>9</td>\n",
       "      <td>4</td>\n",
       "      <td>0</td>\n",
       "      <td>1</td>\n",
       "      <td>4</td>\n",
       "    </tr>\n",
       "    <tr>\n",
       "      <th>2</th>\n",
       "      <td>0</td>\n",
       "      <td>4</td>\n",
       "      <td>10</td>\n",
       "      <td>3</td>\n",
       "      <td>2</td>\n",
       "      <td>1</td>\n",
       "    </tr>\n",
       "    <tr>\n",
       "      <th>3</th>\n",
       "      <td>1</td>\n",
       "      <td>0</td>\n",
       "      <td>1</td>\n",
       "      <td>12</td>\n",
       "      <td>1</td>\n",
       "      <td>0</td>\n",
       "    </tr>\n",
       "    <tr>\n",
       "      <th>4</th>\n",
       "      <td>3</td>\n",
       "      <td>1</td>\n",
       "      <td>4</td>\n",
       "      <td>2</td>\n",
       "      <td>11</td>\n",
       "      <td>2</td>\n",
       "    </tr>\n",
       "    <tr>\n",
       "      <th>5</th>\n",
       "      <td>1</td>\n",
       "      <td>3</td>\n",
       "      <td>2</td>\n",
       "      <td>2</td>\n",
       "      <td>0</td>\n",
       "      <td>7</td>\n",
       "    </tr>\n",
       "  </tbody>\n",
       "</table>\n",
       "</div>"
      ],
      "text/plain": [
       "choice  0  1   2   3   4  5\n",
       "row_0                      \n",
       "0       5  2   0   1   1  1\n",
       "1       2  9   4   0   1  4\n",
       "2       0  4  10   3   2  1\n",
       "3       1  0   1  12   1  0\n",
       "4       3  1   4   2  11  2\n",
       "5       1  3   2   2   0  7"
      ]
     },
     "execution_count": 25,
     "metadata": {},
     "output_type": "execute_result"
    }
   ],
   "source": [
    "pd.crosstab(y_hat, df.choice)"
   ]
  },
  {
   "cell_type": "code",
   "execution_count": null,
   "metadata": {},
   "outputs": [],
   "source": [
    "# decision_function(X)\n",
    "# Predict confidence scores for samples.\n",
    "# densify()\n",
    "# Convert coefficient matrix to dense array format.\n",
    "# fit(X, y[, sample_weight])\n",
    "# Fit the model according to the given training data.\n",
    "# get_params([deep])\n",
    "# Get parameters for this estimator.\n",
    "# predict(X)\n",
    "# Predict class labels for samples in X.\n",
    "# predict_log_proba(X)\n",
    "# Predict logarithm of probability estimates.\n",
    "# predict_proba(X)\n",
    "# Probability estimates.\n",
    "# score(X, y[, sample_weight])\n",
    "# Return the mean accuracy on the given test data and labels.\n",
    "# set_params(**params)\n",
    "# Set the parameters of this estimator.\n",
    "# sparsify()"
   ]
  },
  {
   "cell_type": "code",
   "execution_count": 31,
   "metadata": {},
   "outputs": [],
   "source": [
    "def get_features_from_game_state_and_casino(\n",
    "    game_state,\n",
    "    casino,\n",
    "):\n",
    "    my_id = game_state.next_player_id\n",
    "    casino_id = casino.id_\n",
    "\n",
    "    features = {\n",
    "        \"my_dice_remaining\" : game_state.players[my_id].dice_remaining,\n",
    "        \"total_other_dice_remaining\" : calc_total_other_dice_remaining(game_state, my_id),\n",
    "        f\"casino_num_dice_to_be_placed\" : sum([1 for i in game_state.next_roll if i == casino_id]),\n",
    "        f\"casino_my_total_dice\" : casino.placed_dice[my_id],\n",
    "        f\"casino_total_other_dice\" : sum([casino.placed_dice[id_] for id_ in range(len(game_state.players)) if not id_ == my_id]),\n",
    "        f\"casino_total_players\" : sum([casino.placed_dice[id_] > 0 for id_ in range(len(game_state.players))]),\n",
    "        f\"casino_my_dice_lead\" : calc_my_dice_lead(casino, my_id),\n",
    "        f\"casino_max_payoff\" : casino.payouts[0],\n",
    "        f\"casino_num_payoffs\" : len(casino.payouts),\n",
    "        f\"casino_total_payoff\" : sum(casino.payouts),\n",
    "    }\n",
    "\n",
    "    return features"
   ]
  },
  {
   "cell_type": "code",
   "execution_count": 51,
   "metadata": {},
   "outputs": [],
   "source": [
    "rows = []\n",
    "for i, line in enumerate(lines):\n",
    "    choice_, game_state = get_choice_and_game_state_from_line(line)\n",
    "    for casino in game_state.casinos:\n",
    "        features = get_features_from_game_state_and_casino(game_state, casino)\n",
    "        casino_id = casino.id_\n",
    "\n",
    "        features[\"choice\"] = int(choice_) == casino_id\n",
    "        features[\"index_\"] = i\n",
    "\n",
    "        rows.append(features)\n",
    "\n",
    "df_2 = pd.DataFrame(rows)"
   ]
  },
  {
   "cell_type": "code",
   "execution_count": 52,
   "metadata": {},
   "outputs": [
    {
     "data": {
      "text/plain": [
       "False    515\n",
       "True     103\n",
       "Name: choice, dtype: int64"
      ]
     },
     "execution_count": 52,
     "metadata": {},
     "output_type": "execute_result"
    }
   ],
   "source": [
    "df_2.choice.value_counts()"
   ]
  },
  {
   "cell_type": "code",
   "execution_count": 53,
   "metadata": {},
   "outputs": [],
   "source": [
    "x_vars_2 = [\n",
    "    'my_dice_remaining', 'total_other_dice_remaining',\n",
    "    'casino_num_dice_to_be_placed', 'casino_my_total_dice',\n",
    "    'casino_total_other_dice', 'casino_total_players',\n",
    "    'casino_my_dice_lead', 'casino_max_payoff', 'casino_num_payoffs',\n",
    "    'casino_total_payoff'\n",
    "]"
   ]
  },
  {
   "cell_type": "code",
   "execution_count": 54,
   "metadata": {},
   "outputs": [
    {
     "name": "stderr",
     "output_type": "stream",
     "text": [
      "/Users/abe/anaconda3/lib/python3.8/site-packages/sklearn/linear_model/_logistic.py:762: ConvergenceWarning: lbfgs failed to converge (status=1):\n",
      "STOP: TOTAL NO. of ITERATIONS REACHED LIMIT.\n",
      "\n",
      "Increase the number of iterations (max_iter) or scale the data as shown in:\n",
      "    https://scikit-learn.org/stable/modules/preprocessing.html\n",
      "Please also refer to the documentation for alternative solver options:\n",
      "    https://scikit-learn.org/stable/modules/linear_model.html#logistic-regression\n",
      "  n_iter_i = _check_optimize_result(\n"
     ]
    },
    {
     "data": {
      "text/plain": [
       "LogisticRegression()"
      ]
     },
     "execution_count": 54,
     "metadata": {},
     "output_type": "execute_result"
    }
   ],
   "source": [
    "model_2 = LogisticRegression()\n",
    "model_2.fit(df_2[x_vars_2], df_2.choice)"
   ]
  },
  {
   "cell_type": "code",
   "execution_count": 57,
   "metadata": {},
   "outputs": [
    {
     "data": {
      "text/html": [
       "<div>\n",
       "<style scoped>\n",
       "    .dataframe tbody tr th:only-of-type {\n",
       "        vertical-align: middle;\n",
       "    }\n",
       "\n",
       "    .dataframe tbody tr th {\n",
       "        vertical-align: top;\n",
       "    }\n",
       "\n",
       "    .dataframe thead th {\n",
       "        text-align: right;\n",
       "    }\n",
       "</style>\n",
       "<table border=\"1\" class=\"dataframe\">\n",
       "  <thead>\n",
       "    <tr style=\"text-align: right;\">\n",
       "      <th>choice</th>\n",
       "      <th>False</th>\n",
       "      <th>True</th>\n",
       "    </tr>\n",
       "    <tr>\n",
       "      <th>row_0</th>\n",
       "      <th></th>\n",
       "      <th></th>\n",
       "    </tr>\n",
       "  </thead>\n",
       "  <tbody>\n",
       "    <tr>\n",
       "      <th>False</th>\n",
       "      <td>509</td>\n",
       "      <td>101</td>\n",
       "    </tr>\n",
       "    <tr>\n",
       "      <th>True</th>\n",
       "      <td>6</td>\n",
       "      <td>2</td>\n",
       "    </tr>\n",
       "  </tbody>\n",
       "</table>\n",
       "</div>"
      ],
      "text/plain": [
       "choice  False  True \n",
       "row_0               \n",
       "False     509    101\n",
       "True        6      2"
      ]
     },
     "execution_count": 57,
     "metadata": {},
     "output_type": "execute_result"
    }
   ],
   "source": [
    "pd.crosstab(model_2.predict(df_2[x_vars_2]), df_2.choice)"
   ]
  },
  {
   "cell_type": "code",
   "execution_count": null,
   "metadata": {},
   "outputs": [],
   "source": []
  }
 ],
 "metadata": {
  "kernelspec": {
   "display_name": "Python 3",
   "language": "python",
   "name": "python3"
  },
  "language_info": {
   "codemirror_mode": {
    "name": "ipython",
    "version": 3
   },
   "file_extension": ".py",
   "mimetype": "text/x-python",
   "name": "python",
   "nbconvert_exporter": "python",
   "pygments_lexer": "ipython3",
   "version": "3.8.5"
  }
 },
 "nbformat": 4,
 "nbformat_minor": 5
}
